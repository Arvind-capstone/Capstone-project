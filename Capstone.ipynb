{
 "cells": [
  {
   "cell_type": "markdown",
   "metadata": {},
   "source": [
    "# Mortgage Prediction"
   ]
  },
  {
   "cell_type": "markdown",
   "metadata": {},
   "source": [
    "## Data Loading"
   ]
  },
  {
   "cell_type": "code",
   "execution_count": 1,
   "metadata": {},
   "outputs": [],
   "source": [
    "import pandas as pd\n",
    "import numpy as np\n",
    "import seaborn as sns\n",
    "import matplotlib.pyplot as plt"
   ]
  },
  {
   "cell_type": "code",
   "execution_count": 2,
   "metadata": {},
   "outputs": [],
   "source": [
    "train= pd.read_csv(\"capstone.csv\")\n",
    "test= pd.read_csv(\"test.csv.csv\")"
   ]
  },
  {
   "cell_type": "code",
   "execution_count": 3,
   "metadata": {
    "scrolled": true
   },
   "outputs": [
    {
     "data": {
      "text/html": [
       "<div>\n",
       "<style scoped>\n",
       "    .dataframe tbody tr th:only-of-type {\n",
       "        vertical-align: middle;\n",
       "    }\n",
       "\n",
       "    .dataframe tbody tr th {\n",
       "        vertical-align: top;\n",
       "    }\n",
       "\n",
       "    .dataframe thead th {\n",
       "        text-align: right;\n",
       "    }\n",
       "</style>\n",
       "<table border=\"1\" class=\"dataframe\">\n",
       "  <thead>\n",
       "    <tr style=\"text-align: right;\">\n",
       "      <th></th>\n",
       "      <th>row_id</th>\n",
       "      <th>loan_type</th>\n",
       "      <th>property_type</th>\n",
       "      <th>loan_purpose</th>\n",
       "      <th>occupancy</th>\n",
       "      <th>loan_amount</th>\n",
       "      <th>preapproval</th>\n",
       "      <th>msa_md</th>\n",
       "      <th>state_code</th>\n",
       "      <th>county_code</th>\n",
       "      <th>...</th>\n",
       "      <th>applicant_sex</th>\n",
       "      <th>applicant_income</th>\n",
       "      <th>population</th>\n",
       "      <th>minority_population_pct</th>\n",
       "      <th>ffiecmedian_family_income</th>\n",
       "      <th>tract_to_msa_md_income_pct</th>\n",
       "      <th>number_of_owner-occupied_units</th>\n",
       "      <th>number_of_1_to_4_family_units</th>\n",
       "      <th>lender</th>\n",
       "      <th>co_applicant</th>\n",
       "    </tr>\n",
       "  </thead>\n",
       "  <tbody>\n",
       "    <tr>\n",
       "      <th>0</th>\n",
       "      <td>0</td>\n",
       "      <td>3</td>\n",
       "      <td>1</td>\n",
       "      <td>1</td>\n",
       "      <td>1</td>\n",
       "      <td>70</td>\n",
       "      <td>3</td>\n",
       "      <td>18</td>\n",
       "      <td>37</td>\n",
       "      <td>246</td>\n",
       "      <td>...</td>\n",
       "      <td>1</td>\n",
       "      <td>24.0</td>\n",
       "      <td>6203.0</td>\n",
       "      <td>44.230</td>\n",
       "      <td>60588.0</td>\n",
       "      <td>50.933</td>\n",
       "      <td>716.0</td>\n",
       "      <td>2642.0</td>\n",
       "      <td>4536</td>\n",
       "      <td>False</td>\n",
       "    </tr>\n",
       "    <tr>\n",
       "      <th>1</th>\n",
       "      <td>1</td>\n",
       "      <td>1</td>\n",
       "      <td>1</td>\n",
       "      <td>3</td>\n",
       "      <td>1</td>\n",
       "      <td>178</td>\n",
       "      <td>3</td>\n",
       "      <td>369</td>\n",
       "      <td>52</td>\n",
       "      <td>299</td>\n",
       "      <td>...</td>\n",
       "      <td>1</td>\n",
       "      <td>57.0</td>\n",
       "      <td>5774.0</td>\n",
       "      <td>15.905</td>\n",
       "      <td>54821.0</td>\n",
       "      <td>100.000</td>\n",
       "      <td>1622.0</td>\n",
       "      <td>2108.0</td>\n",
       "      <td>2458</td>\n",
       "      <td>False</td>\n",
       "    </tr>\n",
       "    <tr>\n",
       "      <th>2</th>\n",
       "      <td>2</td>\n",
       "      <td>2</td>\n",
       "      <td>1</td>\n",
       "      <td>3</td>\n",
       "      <td>1</td>\n",
       "      <td>163</td>\n",
       "      <td>3</td>\n",
       "      <td>16</td>\n",
       "      <td>10</td>\n",
       "      <td>306</td>\n",
       "      <td>...</td>\n",
       "      <td>1</td>\n",
       "      <td>67.0</td>\n",
       "      <td>6094.0</td>\n",
       "      <td>61.270</td>\n",
       "      <td>67719.0</td>\n",
       "      <td>100.000</td>\n",
       "      <td>760.0</td>\n",
       "      <td>1048.0</td>\n",
       "      <td>5710</td>\n",
       "      <td>False</td>\n",
       "    </tr>\n",
       "    <tr>\n",
       "      <th>3</th>\n",
       "      <td>3</td>\n",
       "      <td>1</td>\n",
       "      <td>1</td>\n",
       "      <td>1</td>\n",
       "      <td>1</td>\n",
       "      <td>155</td>\n",
       "      <td>1</td>\n",
       "      <td>305</td>\n",
       "      <td>47</td>\n",
       "      <td>180</td>\n",
       "      <td>...</td>\n",
       "      <td>1</td>\n",
       "      <td>105.0</td>\n",
       "      <td>6667.0</td>\n",
       "      <td>6.246</td>\n",
       "      <td>78439.0</td>\n",
       "      <td>100.000</td>\n",
       "      <td>2025.0</td>\n",
       "      <td>2299.0</td>\n",
       "      <td>5888</td>\n",
       "      <td>True</td>\n",
       "    </tr>\n",
       "    <tr>\n",
       "      <th>4</th>\n",
       "      <td>4</td>\n",
       "      <td>1</td>\n",
       "      <td>1</td>\n",
       "      <td>1</td>\n",
       "      <td>1</td>\n",
       "      <td>305</td>\n",
       "      <td>3</td>\n",
       "      <td>24</td>\n",
       "      <td>37</td>\n",
       "      <td>20</td>\n",
       "      <td>...</td>\n",
       "      <td>2</td>\n",
       "      <td>71.0</td>\n",
       "      <td>6732.0</td>\n",
       "      <td>100.000</td>\n",
       "      <td>63075.0</td>\n",
       "      <td>82.200</td>\n",
       "      <td>1464.0</td>\n",
       "      <td>1847.0</td>\n",
       "      <td>289</td>\n",
       "      <td>False</td>\n",
       "    </tr>\n",
       "  </tbody>\n",
       "</table>\n",
       "<p>5 rows × 22 columns</p>\n",
       "</div>"
      ],
      "text/plain": [
       "   row_id  loan_type  property_type  loan_purpose  occupancy  loan_amount  \\\n",
       "0       0          3              1             1          1           70   \n",
       "1       1          1              1             3          1          178   \n",
       "2       2          2              1             3          1          163   \n",
       "3       3          1              1             1          1          155   \n",
       "4       4          1              1             1          1          305   \n",
       "\n",
       "   preapproval  msa_md  state_code  county_code  ...  applicant_sex  \\\n",
       "0            3      18          37          246  ...              1   \n",
       "1            3     369          52          299  ...              1   \n",
       "2            3      16          10          306  ...              1   \n",
       "3            1     305          47          180  ...              1   \n",
       "4            3      24          37           20  ...              2   \n",
       "\n",
       "   applicant_income  population  minority_population_pct  \\\n",
       "0              24.0      6203.0                   44.230   \n",
       "1              57.0      5774.0                   15.905   \n",
       "2              67.0      6094.0                   61.270   \n",
       "3             105.0      6667.0                    6.246   \n",
       "4              71.0      6732.0                  100.000   \n",
       "\n",
       "   ffiecmedian_family_income  tract_to_msa_md_income_pct  \\\n",
       "0                    60588.0                      50.933   \n",
       "1                    54821.0                     100.000   \n",
       "2                    67719.0                     100.000   \n",
       "3                    78439.0                     100.000   \n",
       "4                    63075.0                      82.200   \n",
       "\n",
       "   number_of_owner-occupied_units  number_of_1_to_4_family_units  lender  \\\n",
       "0                           716.0                         2642.0    4536   \n",
       "1                          1622.0                         2108.0    2458   \n",
       "2                           760.0                         1048.0    5710   \n",
       "3                          2025.0                         2299.0    5888   \n",
       "4                          1464.0                         1847.0     289   \n",
       "\n",
       "   co_applicant  \n",
       "0         False  \n",
       "1         False  \n",
       "2         False  \n",
       "3          True  \n",
       "4         False  \n",
       "\n",
       "[5 rows x 22 columns]"
      ]
     },
     "execution_count": 3,
     "metadata": {},
     "output_type": "execute_result"
    }
   ],
   "source": [
    "train.head()"
   ]
  },
  {
   "cell_type": "code",
   "execution_count": 4,
   "metadata": {},
   "outputs": [
    {
     "data": {
      "text/html": [
       "<div>\n",
       "<style scoped>\n",
       "    .dataframe tbody tr th:only-of-type {\n",
       "        vertical-align: middle;\n",
       "    }\n",
       "\n",
       "    .dataframe tbody tr th {\n",
       "        vertical-align: top;\n",
       "    }\n",
       "\n",
       "    .dataframe thead th {\n",
       "        text-align: right;\n",
       "    }\n",
       "</style>\n",
       "<table border=\"1\" class=\"dataframe\">\n",
       "  <thead>\n",
       "    <tr style=\"text-align: right;\">\n",
       "      <th></th>\n",
       "      <th>row_id</th>\n",
       "      <th>accepted</th>\n",
       "    </tr>\n",
       "  </thead>\n",
       "  <tbody>\n",
       "    <tr>\n",
       "      <th>0</th>\n",
       "      <td>0</td>\n",
       "      <td>1</td>\n",
       "    </tr>\n",
       "    <tr>\n",
       "      <th>1</th>\n",
       "      <td>1</td>\n",
       "      <td>0</td>\n",
       "    </tr>\n",
       "    <tr>\n",
       "      <th>2</th>\n",
       "      <td>2</td>\n",
       "      <td>1</td>\n",
       "    </tr>\n",
       "    <tr>\n",
       "      <th>3</th>\n",
       "      <td>3</td>\n",
       "      <td>1</td>\n",
       "    </tr>\n",
       "    <tr>\n",
       "      <th>4</th>\n",
       "      <td>4</td>\n",
       "      <td>1</td>\n",
       "    </tr>\n",
       "  </tbody>\n",
       "</table>\n",
       "</div>"
      ],
      "text/plain": [
       "   row_id  accepted\n",
       "0       0         1\n",
       "1       1         0\n",
       "2       2         1\n",
       "3       3         1\n",
       "4       4         1"
      ]
     },
     "execution_count": 4,
     "metadata": {},
     "output_type": "execute_result"
    }
   ],
   "source": [
    "test.head()"
   ]
  },
  {
   "cell_type": "markdown",
   "metadata": {},
   "source": [
    "## Data Overview"
   ]
  },
  {
   "cell_type": "code",
   "execution_count": 5,
   "metadata": {},
   "outputs": [
    {
     "data": {
      "text/plain": [
       "(500000, 22)"
      ]
     },
     "execution_count": 5,
     "metadata": {},
     "output_type": "execute_result"
    }
   ],
   "source": [
    "train.shape"
   ]
  },
  {
   "cell_type": "code",
   "execution_count": 6,
   "metadata": {},
   "outputs": [
    {
     "name": "stdout",
     "output_type": "stream",
     "text": [
      "<class 'pandas.core.frame.DataFrame'>\n",
      "RangeIndex: 500000 entries, 0 to 499999\n",
      "Data columns (total 22 columns):\n",
      "row_id                            500000 non-null int64\n",
      "loan_type                         500000 non-null int64\n",
      "property_type                     500000 non-null int64\n",
      "loan_purpose                      500000 non-null int64\n",
      "occupancy                         500000 non-null int64\n",
      "loan_amount                       500000 non-null int64\n",
      "preapproval                       500000 non-null int64\n",
      "msa_md                            500000 non-null int64\n",
      "state_code                        500000 non-null int64\n",
      "county_code                       500000 non-null int64\n",
      "applicant_ethnicity               500000 non-null int64\n",
      "applicant_race                    500000 non-null int64\n",
      "applicant_sex                     500000 non-null int64\n",
      "applicant_income                  460052 non-null float64\n",
      "population                        477535 non-null float64\n",
      "minority_population_pct           477534 non-null float64\n",
      "ffiecmedian_family_income         477560 non-null float64\n",
      "tract_to_msa_md_income_pct        477486 non-null float64\n",
      "number_of_owner-occupied_units    477435 non-null float64\n",
      "number_of_1_to_4_family_units     477470 non-null float64\n",
      "lender                            500000 non-null int64\n",
      "co_applicant                      500000 non-null bool\n",
      "dtypes: bool(1), float64(7), int64(14)\n",
      "memory usage: 80.6 MB\n"
     ]
    }
   ],
   "source": [
    "train.info()"
   ]
  },
  {
   "cell_type": "code",
   "execution_count": 7,
   "metadata": {},
   "outputs": [
    {
     "data": {
      "text/html": [
       "<div>\n",
       "<style scoped>\n",
       "    .dataframe tbody tr th:only-of-type {\n",
       "        vertical-align: middle;\n",
       "    }\n",
       "\n",
       "    .dataframe tbody tr th {\n",
       "        vertical-align: top;\n",
       "    }\n",
       "\n",
       "    .dataframe thead th {\n",
       "        text-align: right;\n",
       "    }\n",
       "</style>\n",
       "<table border=\"1\" class=\"dataframe\">\n",
       "  <thead>\n",
       "    <tr style=\"text-align: right;\">\n",
       "      <th></th>\n",
       "      <th>row_id</th>\n",
       "      <th>loan_type</th>\n",
       "      <th>property_type</th>\n",
       "      <th>loan_purpose</th>\n",
       "      <th>occupancy</th>\n",
       "      <th>loan_amount</th>\n",
       "      <th>preapproval</th>\n",
       "      <th>msa_md</th>\n",
       "      <th>state_code</th>\n",
       "      <th>county_code</th>\n",
       "      <th>...</th>\n",
       "      <th>applicant_race</th>\n",
       "      <th>applicant_sex</th>\n",
       "      <th>applicant_income</th>\n",
       "      <th>population</th>\n",
       "      <th>minority_population_pct</th>\n",
       "      <th>ffiecmedian_family_income</th>\n",
       "      <th>tract_to_msa_md_income_pct</th>\n",
       "      <th>number_of_owner-occupied_units</th>\n",
       "      <th>number_of_1_to_4_family_units</th>\n",
       "      <th>lender</th>\n",
       "    </tr>\n",
       "  </thead>\n",
       "  <tbody>\n",
       "    <tr>\n",
       "      <th>count</th>\n",
       "      <td>500000.000000</td>\n",
       "      <td>500000.000000</td>\n",
       "      <td>500000.000000</td>\n",
       "      <td>500000.000000</td>\n",
       "      <td>500000.000000</td>\n",
       "      <td>500000.000000</td>\n",
       "      <td>500000.000000</td>\n",
       "      <td>500000.000000</td>\n",
       "      <td>500000.000000</td>\n",
       "      <td>500000.000000</td>\n",
       "      <td>...</td>\n",
       "      <td>500000.000000</td>\n",
       "      <td>500000.000000</td>\n",
       "      <td>460052.000000</td>\n",
       "      <td>477535.000000</td>\n",
       "      <td>477534.000000</td>\n",
       "      <td>477560.000000</td>\n",
       "      <td>477486.000000</td>\n",
       "      <td>477435.000000</td>\n",
       "      <td>477470.000000</td>\n",
       "      <td>500000.000000</td>\n",
       "    </tr>\n",
       "    <tr>\n",
       "      <th>mean</th>\n",
       "      <td>249999.500000</td>\n",
       "      <td>1.366276</td>\n",
       "      <td>1.047650</td>\n",
       "      <td>2.066810</td>\n",
       "      <td>1.109590</td>\n",
       "      <td>221.753158</td>\n",
       "      <td>2.764722</td>\n",
       "      <td>181.606972</td>\n",
       "      <td>23.726924</td>\n",
       "      <td>144.542062</td>\n",
       "      <td>...</td>\n",
       "      <td>4.786586</td>\n",
       "      <td>1.462374</td>\n",
       "      <td>102.389521</td>\n",
       "      <td>5416.833956</td>\n",
       "      <td>31.617310</td>\n",
       "      <td>69235.603298</td>\n",
       "      <td>91.832624</td>\n",
       "      <td>1427.718282</td>\n",
       "      <td>1886.147065</td>\n",
       "      <td>3720.121344</td>\n",
       "    </tr>\n",
       "    <tr>\n",
       "      <th>std</th>\n",
       "      <td>144337.711635</td>\n",
       "      <td>0.690555</td>\n",
       "      <td>0.231404</td>\n",
       "      <td>0.948371</td>\n",
       "      <td>0.326092</td>\n",
       "      <td>590.641648</td>\n",
       "      <td>0.543061</td>\n",
       "      <td>138.464169</td>\n",
       "      <td>15.982768</td>\n",
       "      <td>100.243612</td>\n",
       "      <td>...</td>\n",
       "      <td>1.024927</td>\n",
       "      <td>0.677685</td>\n",
       "      <td>153.534496</td>\n",
       "      <td>2728.144999</td>\n",
       "      <td>26.333938</td>\n",
       "      <td>14810.058791</td>\n",
       "      <td>14.210924</td>\n",
       "      <td>737.559511</td>\n",
       "      <td>914.123744</td>\n",
       "      <td>1838.313175</td>\n",
       "    </tr>\n",
       "    <tr>\n",
       "      <th>min</th>\n",
       "      <td>0.000000</td>\n",
       "      <td>1.000000</td>\n",
       "      <td>1.000000</td>\n",
       "      <td>1.000000</td>\n",
       "      <td>1.000000</td>\n",
       "      <td>1.000000</td>\n",
       "      <td>1.000000</td>\n",
       "      <td>-1.000000</td>\n",
       "      <td>-1.000000</td>\n",
       "      <td>-1.000000</td>\n",
       "      <td>...</td>\n",
       "      <td>1.000000</td>\n",
       "      <td>1.000000</td>\n",
       "      <td>1.000000</td>\n",
       "      <td>14.000000</td>\n",
       "      <td>0.534000</td>\n",
       "      <td>17858.000000</td>\n",
       "      <td>3.981000</td>\n",
       "      <td>4.000000</td>\n",
       "      <td>1.000000</td>\n",
       "      <td>0.000000</td>\n",
       "    </tr>\n",
       "    <tr>\n",
       "      <th>25%</th>\n",
       "      <td>124999.750000</td>\n",
       "      <td>1.000000</td>\n",
       "      <td>1.000000</td>\n",
       "      <td>1.000000</td>\n",
       "      <td>1.000000</td>\n",
       "      <td>93.000000</td>\n",
       "      <td>3.000000</td>\n",
       "      <td>25.000000</td>\n",
       "      <td>6.000000</td>\n",
       "      <td>57.000000</td>\n",
       "      <td>...</td>\n",
       "      <td>5.000000</td>\n",
       "      <td>1.000000</td>\n",
       "      <td>47.000000</td>\n",
       "      <td>3744.000000</td>\n",
       "      <td>10.700000</td>\n",
       "      <td>59731.000000</td>\n",
       "      <td>88.067250</td>\n",
       "      <td>944.000000</td>\n",
       "      <td>1301.000000</td>\n",
       "      <td>2442.000000</td>\n",
       "    </tr>\n",
       "    <tr>\n",
       "      <th>50%</th>\n",
       "      <td>249999.500000</td>\n",
       "      <td>1.000000</td>\n",
       "      <td>1.000000</td>\n",
       "      <td>2.000000</td>\n",
       "      <td>1.000000</td>\n",
       "      <td>162.000000</td>\n",
       "      <td>3.000000</td>\n",
       "      <td>192.000000</td>\n",
       "      <td>26.000000</td>\n",
       "      <td>131.000000</td>\n",
       "      <td>...</td>\n",
       "      <td>5.000000</td>\n",
       "      <td>1.000000</td>\n",
       "      <td>74.000000</td>\n",
       "      <td>4975.000000</td>\n",
       "      <td>22.901000</td>\n",
       "      <td>67526.000000</td>\n",
       "      <td>100.000000</td>\n",
       "      <td>1327.000000</td>\n",
       "      <td>1753.000000</td>\n",
       "      <td>3731.000000</td>\n",
       "    </tr>\n",
       "    <tr>\n",
       "      <th>75%</th>\n",
       "      <td>374999.250000</td>\n",
       "      <td>2.000000</td>\n",
       "      <td>1.000000</td>\n",
       "      <td>3.000000</td>\n",
       "      <td>1.000000</td>\n",
       "      <td>266.000000</td>\n",
       "      <td>3.000000</td>\n",
       "      <td>314.000000</td>\n",
       "      <td>37.000000</td>\n",
       "      <td>246.000000</td>\n",
       "      <td>...</td>\n",
       "      <td>5.000000</td>\n",
       "      <td>2.000000</td>\n",
       "      <td>117.000000</td>\n",
       "      <td>6467.000000</td>\n",
       "      <td>46.020000</td>\n",
       "      <td>75351.000000</td>\n",
       "      <td>100.000000</td>\n",
       "      <td>1780.000000</td>\n",
       "      <td>2309.000000</td>\n",
       "      <td>5436.000000</td>\n",
       "    </tr>\n",
       "    <tr>\n",
       "      <th>max</th>\n",
       "      <td>499999.000000</td>\n",
       "      <td>4.000000</td>\n",
       "      <td>3.000000</td>\n",
       "      <td>3.000000</td>\n",
       "      <td>3.000000</td>\n",
       "      <td>100878.000000</td>\n",
       "      <td>3.000000</td>\n",
       "      <td>408.000000</td>\n",
       "      <td>52.000000</td>\n",
       "      <td>324.000000</td>\n",
       "      <td>...</td>\n",
       "      <td>7.000000</td>\n",
       "      <td>4.000000</td>\n",
       "      <td>10139.000000</td>\n",
       "      <td>37097.000000</td>\n",
       "      <td>100.000000</td>\n",
       "      <td>125248.000000</td>\n",
       "      <td>100.000000</td>\n",
       "      <td>8771.000000</td>\n",
       "      <td>13623.000000</td>\n",
       "      <td>6508.000000</td>\n",
       "    </tr>\n",
       "  </tbody>\n",
       "</table>\n",
       "<p>8 rows × 21 columns</p>\n",
       "</div>"
      ],
      "text/plain": [
       "              row_id      loan_type  property_type   loan_purpose  \\\n",
       "count  500000.000000  500000.000000  500000.000000  500000.000000   \n",
       "mean   249999.500000       1.366276       1.047650       2.066810   \n",
       "std    144337.711635       0.690555       0.231404       0.948371   \n",
       "min         0.000000       1.000000       1.000000       1.000000   \n",
       "25%    124999.750000       1.000000       1.000000       1.000000   \n",
       "50%    249999.500000       1.000000       1.000000       2.000000   \n",
       "75%    374999.250000       2.000000       1.000000       3.000000   \n",
       "max    499999.000000       4.000000       3.000000       3.000000   \n",
       "\n",
       "           occupancy    loan_amount    preapproval         msa_md  \\\n",
       "count  500000.000000  500000.000000  500000.000000  500000.000000   \n",
       "mean        1.109590     221.753158       2.764722     181.606972   \n",
       "std         0.326092     590.641648       0.543061     138.464169   \n",
       "min         1.000000       1.000000       1.000000      -1.000000   \n",
       "25%         1.000000      93.000000       3.000000      25.000000   \n",
       "50%         1.000000     162.000000       3.000000     192.000000   \n",
       "75%         1.000000     266.000000       3.000000     314.000000   \n",
       "max         3.000000  100878.000000       3.000000     408.000000   \n",
       "\n",
       "          state_code    county_code  ...  applicant_race  applicant_sex  \\\n",
       "count  500000.000000  500000.000000  ...   500000.000000  500000.000000   \n",
       "mean       23.726924     144.542062  ...        4.786586       1.462374   \n",
       "std        15.982768     100.243612  ...        1.024927       0.677685   \n",
       "min        -1.000000      -1.000000  ...        1.000000       1.000000   \n",
       "25%         6.000000      57.000000  ...        5.000000       1.000000   \n",
       "50%        26.000000     131.000000  ...        5.000000       1.000000   \n",
       "75%        37.000000     246.000000  ...        5.000000       2.000000   \n",
       "max        52.000000     324.000000  ...        7.000000       4.000000   \n",
       "\n",
       "       applicant_income     population  minority_population_pct  \\\n",
       "count     460052.000000  477535.000000            477534.000000   \n",
       "mean         102.389521    5416.833956                31.617310   \n",
       "std          153.534496    2728.144999                26.333938   \n",
       "min            1.000000      14.000000                 0.534000   \n",
       "25%           47.000000    3744.000000                10.700000   \n",
       "50%           74.000000    4975.000000                22.901000   \n",
       "75%          117.000000    6467.000000                46.020000   \n",
       "max        10139.000000   37097.000000               100.000000   \n",
       "\n",
       "       ffiecmedian_family_income  tract_to_msa_md_income_pct  \\\n",
       "count              477560.000000               477486.000000   \n",
       "mean                69235.603298                   91.832624   \n",
       "std                 14810.058791                   14.210924   \n",
       "min                 17858.000000                    3.981000   \n",
       "25%                 59731.000000                   88.067250   \n",
       "50%                 67526.000000                  100.000000   \n",
       "75%                 75351.000000                  100.000000   \n",
       "max                125248.000000                  100.000000   \n",
       "\n",
       "       number_of_owner-occupied_units  number_of_1_to_4_family_units  \\\n",
       "count                   477435.000000                  477470.000000   \n",
       "mean                      1427.718282                    1886.147065   \n",
       "std                        737.559511                     914.123744   \n",
       "min                          4.000000                       1.000000   \n",
       "25%                        944.000000                    1301.000000   \n",
       "50%                       1327.000000                    1753.000000   \n",
       "75%                       1780.000000                    2309.000000   \n",
       "max                       8771.000000                   13623.000000   \n",
       "\n",
       "              lender  \n",
       "count  500000.000000  \n",
       "mean     3720.121344  \n",
       "std      1838.313175  \n",
       "min         0.000000  \n",
       "25%      2442.000000  \n",
       "50%      3731.000000  \n",
       "75%      5436.000000  \n",
       "max      6508.000000  \n",
       "\n",
       "[8 rows x 21 columns]"
      ]
     },
     "execution_count": 7,
     "metadata": {},
     "output_type": "execute_result"
    }
   ],
   "source": [
    "train.describe()"
   ]
  },
  {
   "cell_type": "code",
   "execution_count": 8,
   "metadata": {},
   "outputs": [
    {
     "data": {
      "text/plain": [
       "['row_id',\n",
       " 'loan_type',\n",
       " 'property_type',\n",
       " 'loan_purpose',\n",
       " 'occupancy',\n",
       " 'loan_amount',\n",
       " 'preapproval',\n",
       " 'msa_md',\n",
       " 'state_code',\n",
       " 'county_code',\n",
       " 'applicant_ethnicity',\n",
       " 'applicant_race',\n",
       " 'applicant_sex',\n",
       " 'applicant_income',\n",
       " 'population',\n",
       " 'minority_population_pct',\n",
       " 'ffiecmedian_family_income',\n",
       " 'tract_to_msa_md_income_pct',\n",
       " 'number_of_owner-occupied_units',\n",
       " 'number_of_1_to_4_family_units',\n",
       " 'lender',\n",
       " 'co_applicant']"
      ]
     },
     "execution_count": 8,
     "metadata": {},
     "output_type": "execute_result"
    }
   ],
   "source": [
    "train.columns.tolist()"
   ]
  },
  {
   "cell_type": "code",
   "execution_count": 9,
   "metadata": {},
   "outputs": [
    {
     "data": {
      "text/plain": [
       "array([1, 2, 3], dtype=int64)"
      ]
     },
     "execution_count": 9,
     "metadata": {},
     "output_type": "execute_result"
    }
   ],
   "source": [
    "train.occupancy.unique()"
   ]
  },
  {
   "cell_type": "markdown",
   "metadata": {},
   "source": [
    "## Data Cleaning"
   ]
  },
  {
   "cell_type": "code",
   "execution_count": 10,
   "metadata": {},
   "outputs": [
    {
     "data": {
      "text/plain": [
       "row_id                                0\n",
       "loan_type                             0\n",
       "property_type                         0\n",
       "loan_purpose                          0\n",
       "occupancy                             0\n",
       "loan_amount                           0\n",
       "preapproval                           0\n",
       "msa_md                                0\n",
       "state_code                            0\n",
       "county_code                           0\n",
       "applicant_ethnicity                   0\n",
       "applicant_race                        0\n",
       "applicant_sex                         0\n",
       "applicant_income                  39948\n",
       "population                        22465\n",
       "minority_population_pct           22466\n",
       "ffiecmedian_family_income         22440\n",
       "tract_to_msa_md_income_pct        22514\n",
       "number_of_owner-occupied_units    22565\n",
       "number_of_1_to_4_family_units     22530\n",
       "lender                                0\n",
       "co_applicant                          0\n",
       "dtype: int64"
      ]
     },
     "execution_count": 10,
     "metadata": {},
     "output_type": "execute_result"
    }
   ],
   "source": [
    "train.isnull().sum()"
   ]
  },
  {
   "cell_type": "code",
   "execution_count": 11,
   "metadata": {},
   "outputs": [
    {
     "data": {
      "text/plain": [
       "row_id      0\n",
       "accepted    0\n",
       "dtype: int64"
      ]
     },
     "execution_count": 11,
     "metadata": {},
     "output_type": "execute_result"
    }
   ],
   "source": [
    "test.isnull().sum()"
   ]
  },
  {
   "cell_type": "code",
   "execution_count": 12,
   "metadata": {},
   "outputs": [
    {
     "data": {
      "text/plain": [
       "['row_id',\n",
       " 'loan_type',\n",
       " 'property_type',\n",
       " 'loan_purpose',\n",
       " 'occupancy',\n",
       " 'loan_amount',\n",
       " 'preapproval',\n",
       " 'msa_md',\n",
       " 'state_code',\n",
       " 'county_code',\n",
       " 'applicant_ethnicity',\n",
       " 'applicant_race',\n",
       " 'applicant_sex',\n",
       " 'applicant_income',\n",
       " 'population',\n",
       " 'minority_population_pct',\n",
       " 'ffiecmedian_family_income',\n",
       " 'tract_to_msa_md_income_pct',\n",
       " 'number_of_owner-occupied_units',\n",
       " 'number_of_1_to_4_family_units',\n",
       " 'lender',\n",
       " 'co_applicant']"
      ]
     },
     "execution_count": 12,
     "metadata": {},
     "output_type": "execute_result"
    }
   ],
   "source": [
    "data_clean = train[train.msa_md !=-1]\n",
    "data_clean.columns.tolist()"
   ]
  },
  {
   "cell_type": "code",
   "execution_count": 13,
   "metadata": {},
   "outputs": [],
   "source": [
    "data_clean=train.drop(['number_of_1_to_4_family_units','ffiecmedian_family_income','tract_to_msa_md_income_pct','number_of_owner-occupied_units','minority_population_pct'], axis=1)"
   ]
  },
  {
   "cell_type": "code",
   "execution_count": 14,
   "metadata": {},
   "outputs": [],
   "source": [
    "data_clean[\"applicant_income\"].fillna( method ='ffill', inplace = True)\n",
    "data_clean[\"population\"].fillna( method ='ffill', inplace = True)"
   ]
  },
  {
   "cell_type": "code",
   "execution_count": 15,
   "metadata": {
    "scrolled": true
   },
   "outputs": [
    {
     "data": {
      "text/plain": [
       "row_id                 0\n",
       "loan_type              0\n",
       "property_type          0\n",
       "loan_purpose           0\n",
       "occupancy              0\n",
       "loan_amount            0\n",
       "preapproval            0\n",
       "msa_md                 0\n",
       "state_code             0\n",
       "county_code            0\n",
       "applicant_ethnicity    0\n",
       "applicant_race         0\n",
       "applicant_sex          0\n",
       "applicant_income       0\n",
       "population             0\n",
       "lender                 0\n",
       "co_applicant           0\n",
       "dtype: int64"
      ]
     },
     "execution_count": 15,
     "metadata": {},
     "output_type": "execute_result"
    }
   ],
   "source": [
    "data_clean.isnull().sum()"
   ]
  },
  {
   "cell_type": "code",
   "execution_count": 16,
   "metadata": {},
   "outputs": [
    {
     "data": {
      "text/html": [
       "<div>\n",
       "<style scoped>\n",
       "    .dataframe tbody tr th:only-of-type {\n",
       "        vertical-align: middle;\n",
       "    }\n",
       "\n",
       "    .dataframe tbody tr th {\n",
       "        vertical-align: top;\n",
       "    }\n",
       "\n",
       "    .dataframe thead th {\n",
       "        text-align: right;\n",
       "    }\n",
       "</style>\n",
       "<table border=\"1\" class=\"dataframe\">\n",
       "  <thead>\n",
       "    <tr style=\"text-align: right;\">\n",
       "      <th></th>\n",
       "      <th>row_id</th>\n",
       "      <th>loan_type</th>\n",
       "      <th>property_type</th>\n",
       "      <th>loan_purpose</th>\n",
       "      <th>occupancy</th>\n",
       "      <th>loan_amount</th>\n",
       "      <th>preapproval</th>\n",
       "      <th>msa_md</th>\n",
       "      <th>state_code</th>\n",
       "      <th>county_code</th>\n",
       "      <th>applicant_ethnicity</th>\n",
       "      <th>applicant_race</th>\n",
       "      <th>applicant_sex</th>\n",
       "      <th>applicant_income</th>\n",
       "      <th>population</th>\n",
       "      <th>lender</th>\n",
       "      <th>co_applicant</th>\n",
       "    </tr>\n",
       "  </thead>\n",
       "  <tbody>\n",
       "    <tr>\n",
       "      <th>0</th>\n",
       "      <td>0</td>\n",
       "      <td>3</td>\n",
       "      <td>1</td>\n",
       "      <td>1</td>\n",
       "      <td>1</td>\n",
       "      <td>70</td>\n",
       "      <td>3</td>\n",
       "      <td>18</td>\n",
       "      <td>37</td>\n",
       "      <td>246</td>\n",
       "      <td>2</td>\n",
       "      <td>5</td>\n",
       "      <td>1</td>\n",
       "      <td>24.0</td>\n",
       "      <td>6203.0</td>\n",
       "      <td>4536</td>\n",
       "      <td>False</td>\n",
       "    </tr>\n",
       "    <tr>\n",
       "      <th>1</th>\n",
       "      <td>1</td>\n",
       "      <td>1</td>\n",
       "      <td>1</td>\n",
       "      <td>3</td>\n",
       "      <td>1</td>\n",
       "      <td>178</td>\n",
       "      <td>3</td>\n",
       "      <td>369</td>\n",
       "      <td>52</td>\n",
       "      <td>299</td>\n",
       "      <td>1</td>\n",
       "      <td>5</td>\n",
       "      <td>1</td>\n",
       "      <td>57.0</td>\n",
       "      <td>5774.0</td>\n",
       "      <td>2458</td>\n",
       "      <td>False</td>\n",
       "    </tr>\n",
       "    <tr>\n",
       "      <th>2</th>\n",
       "      <td>2</td>\n",
       "      <td>2</td>\n",
       "      <td>1</td>\n",
       "      <td>3</td>\n",
       "      <td>1</td>\n",
       "      <td>163</td>\n",
       "      <td>3</td>\n",
       "      <td>16</td>\n",
       "      <td>10</td>\n",
       "      <td>306</td>\n",
       "      <td>2</td>\n",
       "      <td>5</td>\n",
       "      <td>1</td>\n",
       "      <td>67.0</td>\n",
       "      <td>6094.0</td>\n",
       "      <td>5710</td>\n",
       "      <td>False</td>\n",
       "    </tr>\n",
       "    <tr>\n",
       "      <th>3</th>\n",
       "      <td>3</td>\n",
       "      <td>1</td>\n",
       "      <td>1</td>\n",
       "      <td>1</td>\n",
       "      <td>1</td>\n",
       "      <td>155</td>\n",
       "      <td>1</td>\n",
       "      <td>305</td>\n",
       "      <td>47</td>\n",
       "      <td>180</td>\n",
       "      <td>2</td>\n",
       "      <td>5</td>\n",
       "      <td>1</td>\n",
       "      <td>105.0</td>\n",
       "      <td>6667.0</td>\n",
       "      <td>5888</td>\n",
       "      <td>True</td>\n",
       "    </tr>\n",
       "    <tr>\n",
       "      <th>4</th>\n",
       "      <td>4</td>\n",
       "      <td>1</td>\n",
       "      <td>1</td>\n",
       "      <td>1</td>\n",
       "      <td>1</td>\n",
       "      <td>305</td>\n",
       "      <td>3</td>\n",
       "      <td>24</td>\n",
       "      <td>37</td>\n",
       "      <td>20</td>\n",
       "      <td>2</td>\n",
       "      <td>3</td>\n",
       "      <td>2</td>\n",
       "      <td>71.0</td>\n",
       "      <td>6732.0</td>\n",
       "      <td>289</td>\n",
       "      <td>False</td>\n",
       "    </tr>\n",
       "  </tbody>\n",
       "</table>\n",
       "</div>"
      ],
      "text/plain": [
       "   row_id  loan_type  property_type  loan_purpose  occupancy  loan_amount  \\\n",
       "0       0          3              1             1          1           70   \n",
       "1       1          1              1             3          1          178   \n",
       "2       2          2              1             3          1          163   \n",
       "3       3          1              1             1          1          155   \n",
       "4       4          1              1             1          1          305   \n",
       "\n",
       "   preapproval  msa_md  state_code  county_code  applicant_ethnicity  \\\n",
       "0            3      18          37          246                    2   \n",
       "1            3     369          52          299                    1   \n",
       "2            3      16          10          306                    2   \n",
       "3            1     305          47          180                    2   \n",
       "4            3      24          37           20                    2   \n",
       "\n",
       "   applicant_race  applicant_sex  applicant_income  population  lender  \\\n",
       "0               5              1              24.0      6203.0    4536   \n",
       "1               5              1              57.0      5774.0    2458   \n",
       "2               5              1              67.0      6094.0    5710   \n",
       "3               5              1             105.0      6667.0    5888   \n",
       "4               3              2              71.0      6732.0     289   \n",
       "\n",
       "   co_applicant  \n",
       "0         False  \n",
       "1         False  \n",
       "2         False  \n",
       "3          True  \n",
       "4         False  "
      ]
     },
     "execution_count": 16,
     "metadata": {},
     "output_type": "execute_result"
    }
   ],
   "source": [
    "data_clean.head()"
   ]
  },
  {
   "cell_type": "code",
   "execution_count": 17,
   "metadata": {},
   "outputs": [],
   "source": [
    "data_clean.to_csv(\"C:\\\\Users\\Jasleen\\Documents\\Semester 4\\Capstone Project 402\\Project Files\\data_clean.csv\")"
   ]
  },
  {
   "cell_type": "markdown",
   "metadata": {},
   "source": [
    "## Visualization"
   ]
  },
  {
   "cell_type": "code",
   "execution_count": 18,
   "metadata": {},
   "outputs": [],
   "source": [
    "##  correlation\n",
    "#correlation = data_clean.corr()\n",
    "#  tick labels\n",
    "#matrix_cols = correlation.columns.tolist()\n",
    "#f = plt.figure(figsize=(19, 15))\n",
    "#plt.matshow(correlation.corr(), fignum=f.number)\n",
    "#plt.xticks(range(correlation.shape[1]), correlation.columns, fontsize=14, rotation=45)\n",
    "#plt.yticks(range(correlation.shape[1]), correlation.columns, fontsize=14)\n",
    "#cb = plt.colorbar()\n",
    "#cb.ax.tick_params(labelsize=14)\n",
    "#correlation.style.background_gradient(cmap='coolwarm')"
   ]
  },
  {
   "cell_type": "code",
   "execution_count": 19,
   "metadata": {},
   "outputs": [
    {
     "data": {
      "text/plain": [
       "<matplotlib.axes._subplots.AxesSubplot at 0x1cc6c2abba8>"
      ]
     },
     "execution_count": 19,
     "metadata": {},
     "output_type": "execute_result"
    },
    {
     "data": {
      "image/png": "[encoded data removed]",
      "text/plain": [
       "<Figure size 432x288 with 2 Axes>"
      ]
     },
     "metadata": {
      "needs_background": "light"
     },
     "output_type": "display_data"
    }
   ],
   "source": [
    "corr = data_clean.corr()\n",
    "sns.heatmap(corr, \n",
    "            xticklabels=corr.columns.values,\n",
    "            yticklabels=corr.columns.values)"
   ]
  },
  {
   "cell_type": "code",
   "execution_count": 20,
   "metadata": {},
   "outputs": [],
   "source": [
    "corr_array  = np.array(corr)"
   ]
  },
  {
   "cell_type": "code",
   "execution_count": 21,
   "metadata": {},
   "outputs": [
    {
     "data": {
      "text/plain": [
       "<matplotlib.axes._subplots.AxesSubplot at 0x1cc6a878278>"
      ]
     },
     "execution_count": 21,
     "metadata": {},
     "output_type": "execute_result"
    },
    {
     "data": {
      "image/png": "[encoded data removed]",
      "text/plain": [
       "<Figure size 432x288 with 1 Axes>"
      ]
     },
     "metadata": {
      "needs_background": "light"
     },
     "output_type": "display_data"
    }
   ],
   "source": [
    "sns.distplot(data_clean['population'])"
   ]
  },
  {
   "cell_type": "code",
   "execution_count": 22,
   "metadata": {},
   "outputs": [
    {
     "data": {
      "text/plain": [
       "<matplotlib.axes._subplots.AxesSubplot at 0x1cc6a985470>"
      ]
     },
     "execution_count": 22,
     "metadata": {},
     "output_type": "execute_result"
    },
    {
     "data": {
      "image/png": "[encoded data removed]",
      "text/plain": [
       "<Figure size 1440x720 with 1 Axes>"
      ]
     },
     "metadata": {
      "needs_background": "light"
     },
     "output_type": "display_data"
    }
   ],
   "source": [
    "plt.figure(figsize = (20, 10))\n",
    "sns.scatterplot(data_clean['loan_amount'], train['applicant_income'])  ##, hue=data['Loan_Status'])##"
   ]
  },
  {
   "cell_type": "markdown",
   "metadata": {},
   "source": [
    "## Model Building"
   ]
  },
  {
   "cell_type": "code",
   "execution_count": 23,
   "metadata": {},
   "outputs": [],
   "source": [
    "#from sklearn.feature_selection import SelectFromModel\n",
    "#from sklearn.ensemble import RandomForestClassifier\n",
    "#from sklearn.linear_model import LogisticRegression\n",
    "\n",
    "#select_rf = SelectFromModel(\n",
    "    #RandomForestClassifier(n_estimators=100, random_state=0),\n",
    "    #threshold=\"median\")"
   ]
  },
  {
   "cell_type": "code",
   "execution_count": 24,
   "metadata": {},
   "outputs": [],
   "source": [
    "from sklearn.model_selection import train_test_split\n",
    "X_train, X_test= train_test_split(data_clean, random_state = 41)"
   ]
  },
  {
   "cell_type": "code",
   "execution_count": 25,
   "metadata": {},
   "outputs": [
    {
     "data": {
      "text/plain": [
       "(375000, 17)"
      ]
     },
     "execution_count": 25,
     "metadata": {},
     "output_type": "execute_result"
    }
   ],
   "source": [
    "X_train.shape"
   ]
  },
  {
   "cell_type": "code",
   "execution_count": 26,
   "metadata": {},
   "outputs": [
    {
     "data": {
      "text/plain": [
       "(125000, 17)"
      ]
     },
     "execution_count": 26,
     "metadata": {},
     "output_type": "execute_result"
    }
   ],
   "source": [
    "X_test.shape"
   ]
  },
  {
   "cell_type": "code",
   "execution_count": 27,
   "metadata": {},
   "outputs": [],
   "source": [
    "Y_train, Y_test= train_test_split(data_clean, random_state = 41)"
   ]
  },
  {
   "cell_type": "code",
   "execution_count": 28,
   "metadata": {},
   "outputs": [
    {
     "data": {
      "text/plain": [
       "(375000, 17)"
      ]
     },
     "execution_count": 28,
     "metadata": {},
     "output_type": "execute_result"
    }
   ],
   "source": [
    "Y_train.shape"
   ]
  },
  {
   "cell_type": "code",
   "execution_count": 29,
   "metadata": {},
   "outputs": [
    {
     "data": {
      "text/plain": [
       "(125000, 17)"
      ]
     },
     "execution_count": 29,
     "metadata": {},
     "output_type": "execute_result"
    }
   ],
   "source": [
    "Y_test.shape"
   ]
  },
  {
   "cell_type": "code",
   "execution_count": 30,
   "metadata": {},
   "outputs": [],
   "source": [
    "Y_train = Y_train.astype('int')\n",
    "Y_test = Y_test.astype('int')"
   ]
  },
  {
   "cell_type": "code",
   "execution_count": null,
   "metadata": {},
   "outputs": [],
   "source": [
    "from sklearn.tree import DecisionTreeClassifier\n",
    "tree = DecisionTreeClassifier(random_state=20)\n",
    "tree.fit(X_train, Y_train)"
   ]
  },
  {
   "cell_type": "code",
   "execution_count": null,
   "metadata": {},
   "outputs": [],
   "source": [
    "tree.score(X_test, Y_test)"
   ]
  },
  {
   "cell_type": "code",
   "execution_count": null,
   "metadata": {},
   "outputs": [],
   "source": []
  },
  {
   "cell_type": "code",
   "execution_count": null,
   "metadata": {},
   "outputs": [],
   "source": [
    "from sklearn.ensemble import RandomForestClassifier\n",
    "rf = RandomForestClassifier(n_estimators=100)\n",
    "rf.fit(X_train, Y_train)"
   ]
  },
  {
   "cell_type": "code",
   "execution_count": null,
   "metadata": {},
   "outputs": [],
   "source": []
  }
 ],
 "metadata": {
  "kernelspec": {
   "display_name": "Python 3",
   "language": "python",
   "name": "python3"
  }
 },
 "nbformat": 4,
 "nbformat_minor": 4
}
